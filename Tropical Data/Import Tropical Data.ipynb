{
 "cells": [
  {
   "cell_type": "markdown",
   "metadata": {},
   "source": [
    "# Overview\n",
    "This will use the *new* tropical data API to export survey data. To begin we just export all data for each project"
   ]
  },
  {
   "cell_type": "code",
   "execution_count": 2,
   "metadata": {},
   "outputs": [],
   "source": [
    "import requests\n",
    "import csv\n",
    "\n",
    "USER=\"<PUT USERNAME HERE>\"\n",
    "PASS=\"<PUT PASSWORD HERE>\""
   ]
  },
  {
   "cell_type": "code",
   "execution_count": 31,
   "metadata": {},
   "outputs": [],
   "source": [
    "# from here: https://www.mikulskibartosz.name/how-to-display-a-progress-bar-in-jupyter-notebook/\n",
    "import time, sys\n",
    "from IPython.display import clear_output\n",
    "\n",
    "def update_progress(progress):\n",
    "    bar_length = 20\n",
    "    if isinstance(progress, int):\n",
    "        progress = float(progress)\n",
    "    if not isinstance(progress, float):\n",
    "        progress = 0\n",
    "    if progress < 0:\n",
    "        progress = 0\n",
    "    if progress >= 1:\n",
    "        progress = 1\n",
    "        \n",
    "    block = int(round(bar_length * progress))\n",
    "    \n",
    "    clear_output(wait = True)\n",
    "    text = \"Progress: [{0}] {1:.1f}%\".format( \"#\" * block + \"-\" * (bar_length - block), progress * 100)\n",
    "    print(text)"
   ]
  },
  {
   "cell_type": "markdown",
   "metadata": {},
   "source": [
    "## Step 1: Get available projects"
   ]
  },
  {
   "cell_type": "code",
   "execution_count": 32,
   "metadata": {},
   "outputs": [],
   "source": [
    "# Get projects\n",
    "r1 = requests.get('https://www.tropicaldata.org/api/projects', auth=(USER, PASS))\n",
    "projects = r1.json()"
   ]
  },
  {
   "cell_type": "code",
   "execution_count": 33,
   "metadata": {},
   "outputs": [
    {
     "name": "stdout",
     "output_type": "stream",
     "text": [
      "109,48,79,90,72,82,106\n"
     ]
    }
   ],
   "source": [
    "project_ids = []\n",
    "for project in projects:\n",
    "    #print(project['id'])\n",
    "    project_ids.append(str(project['id']))\n",
    "    \n",
    "project_ids = ','.join(project_ids)\n",
    "print(project_ids)"
   ]
  },
  {
   "cell_type": "code",
   "execution_count": 43,
   "metadata": {},
   "outputs": [
    {
     "name": "stdout",
     "output_type": "stream",
     "text": [
      "there are 491 records\n"
     ]
    }
   ],
   "source": [
    "# Get the total numvber of records, this is needed for the paging\n",
    "r2 = requests.get('https://www.tropicaldata.org/api/analysis?project_ids='+project_ids+'&date_completed=2020-01-01T00:00:00', auth=(USER, PASS))\n",
    "analysis_data = r2.json()\n",
    "total_records = analysis_data['total']\n",
    "print(\"there are {}\".format(total_records)+\" records\")"
   ]
  },
  {
   "cell_type": "code",
   "execution_count": 39,
   "metadata": {},
   "outputs": [
    {
     "name": "stdout",
     "output_type": "stream",
     "text": [
      "getting 100 records of 491\n",
      "getting 100 records of 491\n",
      "getting 100 records of 491\n",
      "getting 100 records of 491\n",
      "getting 91 records of 491\n"
     ]
    }
   ],
   "source": [
    "import math\n",
    "\n",
    "results = []\n",
    "for n in range(math.ceil(total_records/100) ): # need to call this enough times to get all of the records. if 2.3 call it 3 times\n",
    "    offset= n*100 # 100 is the number of records in the response\n",
    "    r2 = requests.get('https://www.tropicaldata.org/api/analysis?project_ids='+project_ids+'&date_completed=2015-01-01T00:00:00&offset='+str(offset), auth=(USER, PASS))\n",
    "    analysis_data = r2.json()\n",
    "    results = results + analysis_data['data']\n",
    "    print('getting {}'.format(len(analysis_data['data'])) + \" records of {}\".format(total_records) )"
   ]
  },
  {
   "cell_type": "markdown",
   "metadata": {},
   "source": [
    "## Step 2: Load in current orgs from database.\n",
    "This will be used later to determine there is a match in the NTDDB"
   ]
  },
  {
   "cell_type": "code",
   "execution_count": 1,
   "metadata": {},
   "outputs": [],
   "source": [
    "import numpy as np\n",
    "import pandas as pd\n",
    "\n",
    "ntd_orgs = pd.read_csv('../ntddb_orgs.csv')"
   ]
  },
  {
   "cell_type": "code",
   "execution_count": 2,
   "metadata": {},
   "outputs": [
    {
     "data": {
      "text/html": [
       "<div>\n",
       "<style scoped>\n",
       "    .dataframe tbody tr th:only-of-type {\n",
       "        vertical-align: middle;\n",
       "    }\n",
       "\n",
       "    .dataframe tbody tr th {\n",
       "        vertical-align: top;\n",
       "    }\n",
       "\n",
       "    .dataframe thead th {\n",
       "        text-align: right;\n",
       "    }\n",
       "</style>\n",
       "<table border=\"1\" class=\"dataframe\">\n",
       "  <thead>\n",
       "    <tr style=\"text-align: right;\">\n",
       "      <th></th>\n",
       "      <th>woreda</th>\n",
       "      <th>woreda uid</th>\n",
       "      <th>zone</th>\n",
       "      <th>zone id</th>\n",
       "      <th>region</th>\n",
       "      <th>region id</th>\n",
       "    </tr>\n",
       "  </thead>\n",
       "  <tbody>\n",
       "    <tr>\n",
       "      <td>0</td>\n",
       "      <td>Abadir</td>\n",
       "      <td>ORG00000302</td>\n",
       "      <td>Harare</td>\n",
       "      <td>ORG00000301</td>\n",
       "      <td>Harare</td>\n",
       "      <td>ORG00000299</td>\n",
       "    </tr>\n",
       "    <tr>\n",
       "      <td>1</td>\n",
       "      <td>Abala</td>\n",
       "      <td>ORG00000029</td>\n",
       "      <td>Awsa</td>\n",
       "      <td>ORG00000014</td>\n",
       "      <td>Afar</td>\n",
       "      <td>ORG00000013</td>\n",
       "    </tr>\n",
       "    <tr>\n",
       "      <td>2</td>\n",
       "      <td>Abaya</td>\n",
       "      <td>unZLOLtOisg</td>\n",
       "      <td>Borena</td>\n",
       "      <td>ORG00000361</td>\n",
       "      <td>Oromia</td>\n",
       "      <td>ORG00000311</td>\n",
       "    </tr>\n",
       "    <tr>\n",
       "      <td>3</td>\n",
       "      <td>Abaya</td>\n",
       "      <td>ORG00000635</td>\n",
       "      <td>West Guji</td>\n",
       "      <td>ORG00000631</td>\n",
       "      <td>Oromia</td>\n",
       "      <td>ORG00000311</td>\n",
       "    </tr>\n",
       "    <tr>\n",
       "      <td>4</td>\n",
       "      <td>Abay Comen</td>\n",
       "      <td>ORG00000484</td>\n",
       "      <td>Horo Guduru</td>\n",
       "      <td>ORG00000482</td>\n",
       "      <td>Oromia</td>\n",
       "      <td>ORG00000311</td>\n",
       "    </tr>\n",
       "    <tr>\n",
       "      <td>5</td>\n",
       "      <td>Abe Dongoro</td>\n",
       "      <td>ORG00000483</td>\n",
       "      <td>Horo Guduru</td>\n",
       "      <td>ORG00000482</td>\n",
       "      <td>Oromia</td>\n",
       "      <td>ORG00000311</td>\n",
       "    </tr>\n",
       "    <tr>\n",
       "      <td>6</td>\n",
       "      <td>Abergele</td>\n",
       "      <td>ORG00000194</td>\n",
       "      <td>Wag Hemra</td>\n",
       "      <td>ORG00000193</td>\n",
       "      <td>Amhara</td>\n",
       "      <td>ORG00000053</td>\n",
       "    </tr>\n",
       "    <tr>\n",
       "      <td>7</td>\n",
       "      <td>Abeshge</td>\n",
       "      <td>ORG00000723</td>\n",
       "      <td>Gurage</td>\n",
       "      <td>ORG00000719</td>\n",
       "      <td>SNNPR</td>\n",
       "      <td>ORG00000668</td>\n",
       "    </tr>\n",
       "    <tr>\n",
       "      <td>8</td>\n",
       "      <td>Abi Adi</td>\n",
       "      <td>ORG00000942</td>\n",
       "      <td>Central Tigray</td>\n",
       "      <td>ORG00000935</td>\n",
       "      <td>Tigray</td>\n",
       "      <td>ORG00000934</td>\n",
       "    </tr>\n",
       "    <tr>\n",
       "      <td>9</td>\n",
       "      <td>Abichugna</td>\n",
       "      <td>ORG00000549</td>\n",
       "      <td>North Shoa Zone</td>\n",
       "      <td>ORG00000543</td>\n",
       "      <td>Oromia</td>\n",
       "      <td>ORG00000311</td>\n",
       "    </tr>\n",
       "  </tbody>\n",
       "</table>\n",
       "</div>"
      ],
      "text/plain": [
       "        woreda   woreda uid             zone      zone id  region    region id\n",
       "0       Abadir  ORG00000302         Harare    ORG00000301  Harare  ORG00000299\n",
       "1        Abala  ORG00000029             Awsa  ORG00000014    Afar  ORG00000013\n",
       "2        Abaya  unZLOLtOisg         Borena    ORG00000361  Oromia  ORG00000311\n",
       "3        Abaya  ORG00000635        West Guji  ORG00000631  Oromia  ORG00000311\n",
       "4   Abay Comen  ORG00000484     Horo Guduru   ORG00000482  Oromia  ORG00000311\n",
       "5  Abe Dongoro  ORG00000483     Horo Guduru   ORG00000482  Oromia  ORG00000311\n",
       "6     Abergele  ORG00000194        Wag Hemra  ORG00000193  Amhara  ORG00000053\n",
       "7      Abeshge  ORG00000723         Gurage    ORG00000719   SNNPR  ORG00000668\n",
       "8      Abi Adi  ORG00000942  Central Tigray   ORG00000935  Tigray  ORG00000934\n",
       "9    Abichugna  ORG00000549  North Shoa Zone  ORG00000543  Oromia  ORG00000311"
      ]
     },
     "execution_count": 2,
     "metadata": {},
     "output_type": "execute_result"
    }
   ],
   "source": [
    "ntd_orgs.head(10)"
   ]
  },
  {
   "cell_type": "code",
   "execution_count": 3,
   "metadata": {},
   "outputs": [],
   "source": [
    "# this file contains the alternate names for woredas\n",
    "updated_names = pd.read_excel('mapping.xlsx')\n",
    "\n",
    "#ntd_orgs = ntd_orgs.set_index('Woreda ID').join(updated_names.set_index('Woreda ID'))\n",
    "ntd_orgs = ntd_orgs.join(updated_names.set_index('woreda uid'), on='woreda uid')"
   ]
  },
  {
   "cell_type": "code",
   "execution_count": 47,
   "metadata": {},
   "outputs": [
    {
     "data": {
      "text/html": [
       "<div>\n",
       "<style scoped>\n",
       "    .dataframe tbody tr th:only-of-type {\n",
       "        vertical-align: middle;\n",
       "    }\n",
       "\n",
       "    .dataframe tbody tr th {\n",
       "        vertical-align: top;\n",
       "    }\n",
       "\n",
       "    .dataframe thead th {\n",
       "        text-align: right;\n",
       "    }\n",
       "</style>\n",
       "<table border=\"1\" class=\"dataframe\">\n",
       "  <thead>\n",
       "    <tr style=\"text-align: right;\">\n",
       "      <th></th>\n",
       "      <th>woreda</th>\n",
       "      <th>woreda uid</th>\n",
       "      <th>zone</th>\n",
       "      <th>zone id</th>\n",
       "      <th>region</th>\n",
       "      <th>region id</th>\n",
       "      <th>alternate name</th>\n",
       "    </tr>\n",
       "  </thead>\n",
       "  <tbody>\n",
       "    <tr>\n",
       "      <td>0</td>\n",
       "      <td>Abadir</td>\n",
       "      <td>ORG00000302</td>\n",
       "      <td>Harare</td>\n",
       "      <td>ORG00000301</td>\n",
       "      <td>Harare</td>\n",
       "      <td>ORG00000299</td>\n",
       "      <td>NaN</td>\n",
       "    </tr>\n",
       "    <tr>\n",
       "      <td>1</td>\n",
       "      <td>Abala</td>\n",
       "      <td>ORG00000029</td>\n",
       "      <td>Awsa</td>\n",
       "      <td>ORG00000014</td>\n",
       "      <td>Afar</td>\n",
       "      <td>ORG00000013</td>\n",
       "      <td>NaN</td>\n",
       "    </tr>\n",
       "    <tr>\n",
       "      <td>2</td>\n",
       "      <td>Abaya</td>\n",
       "      <td>unZLOLtOisg</td>\n",
       "      <td>Borena</td>\n",
       "      <td>ORG00000361</td>\n",
       "      <td>Oromia</td>\n",
       "      <td>ORG00000311</td>\n",
       "      <td>NaN</td>\n",
       "    </tr>\n",
       "    <tr>\n",
       "      <td>3</td>\n",
       "      <td>Abaya</td>\n",
       "      <td>ORG00000635</td>\n",
       "      <td>West Guji</td>\n",
       "      <td>ORG00000631</td>\n",
       "      <td>Oromia</td>\n",
       "      <td>ORG00000311</td>\n",
       "      <td>NaN</td>\n",
       "    </tr>\n",
       "    <tr>\n",
       "      <td>4</td>\n",
       "      <td>Abay Comen</td>\n",
       "      <td>ORG00000484</td>\n",
       "      <td>Horo Guduru</td>\n",
       "      <td>ORG00000482</td>\n",
       "      <td>Oromia</td>\n",
       "      <td>ORG00000311</td>\n",
       "      <td>NaN</td>\n",
       "    </tr>\n",
       "    <tr>\n",
       "      <td>5</td>\n",
       "      <td>Abe Dongoro</td>\n",
       "      <td>ORG00000483</td>\n",
       "      <td>Horo Guduru</td>\n",
       "      <td>ORG00000482</td>\n",
       "      <td>Oromia</td>\n",
       "      <td>ORG00000311</td>\n",
       "      <td>NaN</td>\n",
       "    </tr>\n",
       "    <tr>\n",
       "      <td>6</td>\n",
       "      <td>Abergele</td>\n",
       "      <td>ORG00000194</td>\n",
       "      <td>Wag Hemra</td>\n",
       "      <td>ORG00000193</td>\n",
       "      <td>Amhara</td>\n",
       "      <td>ORG00000053</td>\n",
       "      <td>NaN</td>\n",
       "    </tr>\n",
       "    <tr>\n",
       "      <td>7</td>\n",
       "      <td>Abeshge</td>\n",
       "      <td>ORG00000723</td>\n",
       "      <td>Gurage</td>\n",
       "      <td>ORG00000719</td>\n",
       "      <td>SNNPR</td>\n",
       "      <td>ORG00000668</td>\n",
       "      <td>NaN</td>\n",
       "    </tr>\n",
       "    <tr>\n",
       "      <td>8</td>\n",
       "      <td>Abi Adi</td>\n",
       "      <td>ORG00000942</td>\n",
       "      <td>Central Tigray</td>\n",
       "      <td>ORG00000935</td>\n",
       "      <td>Tigray</td>\n",
       "      <td>ORG00000934</td>\n",
       "      <td>NaN</td>\n",
       "    </tr>\n",
       "    <tr>\n",
       "      <td>9</td>\n",
       "      <td>Abichugna</td>\n",
       "      <td>ORG00000549</td>\n",
       "      <td>North Shoa Zone</td>\n",
       "      <td>ORG00000543</td>\n",
       "      <td>Oromia</td>\n",
       "      <td>ORG00000311</td>\n",
       "      <td>NaN</td>\n",
       "    </tr>\n",
       "  </tbody>\n",
       "</table>\n",
       "</div>"
      ],
      "text/plain": [
       "        woreda   woreda uid             zone      zone id  region  \\\n",
       "0       Abadir  ORG00000302         Harare    ORG00000301  Harare   \n",
       "1        Abala  ORG00000029             Awsa  ORG00000014    Afar   \n",
       "2        Abaya  unZLOLtOisg         Borena    ORG00000361  Oromia   \n",
       "3        Abaya  ORG00000635        West Guji  ORG00000631  Oromia   \n",
       "4   Abay Comen  ORG00000484     Horo Guduru   ORG00000482  Oromia   \n",
       "5  Abe Dongoro  ORG00000483     Horo Guduru   ORG00000482  Oromia   \n",
       "6     Abergele  ORG00000194        Wag Hemra  ORG00000193  Amhara   \n",
       "7      Abeshge  ORG00000723         Gurage    ORG00000719   SNNPR   \n",
       "8      Abi Adi  ORG00000942  Central Tigray   ORG00000935  Tigray   \n",
       "9    Abichugna  ORG00000549  North Shoa Zone  ORG00000543  Oromia   \n",
       "\n",
       "     region id alternate name  \n",
       "0  ORG00000299            NaN  \n",
       "1  ORG00000013            NaN  \n",
       "2  ORG00000311            NaN  \n",
       "3  ORG00000311            NaN  \n",
       "4  ORG00000311            NaN  \n",
       "5  ORG00000311            NaN  \n",
       "6  ORG00000053            NaN  \n",
       "7  ORG00000668            NaN  \n",
       "8  ORG00000934            NaN  \n",
       "9  ORG00000311            NaN  "
      ]
     },
     "execution_count": 47,
     "metadata": {},
     "output_type": "execute_result"
    }
   ],
   "source": [
    "ntd_orgs.head(10)"
   ]
  },
  {
   "cell_type": "code",
   "execution_count": 48,
   "metadata": {},
   "outputs": [],
   "source": [
    "def find_admin3(tropical_data_district):\n",
    "\n",
    "    for index, ntd_row in ntd_orgs.iterrows():\n",
    "        \n",
    "        if ntd_row['woreda'].lower() == tropical_data_district.lower():\n",
    "            return ntd_row['woreda uid']\n",
    "        \n",
    "        elif pd.notna(ntd_row['alternate name']) \\\n",
    "        and ntd_row['alternate name'].lower() == tropical_data_district.lower():\n",
    "            return ntd_row['woreda uid']\n",
    "        "
   ]
  },
  {
   "cell_type": "code",
   "execution_count": 49,
   "metadata": {},
   "outputs": [
    {
     "name": "stdout",
     "output_type": "stream",
     "text": [
      "not found\n"
     ]
    }
   ],
   "source": [
    "# test this out\n",
    "match = find_admin3(\"Ayehu9\")\n",
    "if match:\n",
    "    print(\"found. and is {}\".format( match) )\n",
    "else:\n",
    "    print(\"not found\")"
   ]
  },
  {
   "cell_type": "code",
   "execution_count": 50,
   "metadata": {},
   "outputs": [
    {
     "data": {
      "text/plain": [
       "'ORG00000055'"
      ]
     },
     "execution_count": 50,
     "metadata": {},
     "output_type": "execute_result"
    }
   ],
   "source": [
    "find_admin3(\"Ayehu\")"
   ]
  },
  {
   "cell_type": "markdown",
   "metadata": {},
   "source": [
    "### This step is optional"
   ]
  },
  {
   "cell_type": "code",
   "execution_count": 51,
   "metadata": {},
   "outputs": [
    {
     "name": "stdout",
     "output_type": "stream",
     "text": [
      "Progress: [####################] 99.8%\n"
     ]
    }
   ],
   "source": [
    "# Write out to a CSV file\n",
    "with open('tropicaldata-ous.csv', 'w',  newline='') as analysis_data_export:\n",
    "    \n",
    "    fieldnames = ['project_id', 'admin1_name','admin2_name', 'admin3_name','date_completed', 'reasonable match in ntddb']\n",
    "    writer = csv.DictWriter(analysis_data_export, fieldnames=fieldnames)\n",
    "    writer.writeheader()\n",
    "    \n",
    "    for index,record in enumerate(results):\n",
    "        \n",
    "        matched = 'No'\n",
    "        if find_admin3(record['admin3_name']):\n",
    "            matched = 'Yes'\n",
    "             \n",
    "        writer.writerow({\n",
    "            'project_id': record['project_id'],\n",
    "            'admin1_name': record['admin1_name'],\n",
    "            'admin2_name': record['admin2_name'],\n",
    "            'admin3_name' : record['admin3_name'],\n",
    "            'date_completed' : record['date_completed'],\n",
    "            'reasonable match in ntddb' : matched\n",
    "        })\n",
    "        \n",
    "        update_progress(index / len(results))\n",
    "    "
   ]
  },
  {
   "cell_type": "code",
   "execution_count": 52,
   "metadata": {},
   "outputs": [
    {
     "data": {
      "text/plain": [
       "490"
      ]
     },
     "execution_count": 52,
     "metadata": {},
     "output_type": "execute_result"
    }
   ],
   "source": [
    "index"
   ]
  },
  {
   "cell_type": "markdown",
   "metadata": {},
   "source": [
    "## Step 3: Write the data out to a file"
   ]
  },
  {
   "cell_type": "code",
   "execution_count": 53,
   "metadata": {},
   "outputs": [],
   "source": [
    "import numpy as np\n",
    "import pandas as pd\n",
    "\n",
    "# write out to these to files\n",
    "tropicaldata_df = pd.DataFrame(results)\n",
    "tropicaldata_df.to_csv('tropicaldata-export.csv', index=True)"
   ]
  },
  {
   "cell_type": "markdown",
   "metadata": {},
   "source": [
    "## Step 4: Write out the import file \n",
    "see Jeremiahas email from May 12"
   ]
  },
  {
   "cell_type": "code",
   "execution_count": 54,
   "metadata": {},
   "outputs": [
    {
     "data": {
      "text/plain": [
       "{'admin0_name': 'Ethiopia',\n",
       " 'admin1_name': 'Amhara',\n",
       " 'admin2_name': 'Awi',\n",
       " 'admin3_name': 'Ankesha Guagusa',\n",
       " 'adult_abs': 470,\n",
       " 'adult_enum': 2409,\n",
       " 'adult_ex': 1913,\n",
       " 'adult_female_abs': 119,\n",
       " 'adult_female_enum': 1292,\n",
       " 'adult_female_ex': 1157,\n",
       " 'adult_female_oth': 0,\n",
       " 'adult_female_refu': 16,\n",
       " 'adult_female_trich_bilat': 12,\n",
       " 'adult_female_trich_ct': 47,\n",
       " 'adult_female_trich_loweronly': None,\n",
       " 'adult_female_trich_postop_bilat': 2,\n",
       " 'adult_female_trich_postop_eyes': 9,\n",
       " 'adult_female_trich_unmanaged_ct': 28,\n",
       " 'adult_female_trichts_bilat': 10,\n",
       " 'adult_female_trichts_ct': 39,\n",
       " 'adult_female_trichts_postop_bilat': 1,\n",
       " 'adult_female_trichts_postop_eyes': 6,\n",
       " 'adult_female_trichts_unmanaged_ct': 23,\n",
       " 'adult_female_tt_bilat': None,\n",
       " 'adult_female_tt_ct': None,\n",
       " 'adult_female_tt_postop_bilat': None,\n",
       " 'adult_female_tt_postop_eyes': None,\n",
       " 'adult_female_tt_unmanaged_bilat': None,\n",
       " 'adult_female_tt_unmanaged_ct': None,\n",
       " 'adult_oth': 0,\n",
       " 'adult_refu': 26,\n",
       " 'adult_trich_bilat': 15,\n",
       " 'adult_trich_ct': 53,\n",
       " 'adult_trich_loweronly': None,\n",
       " 'adult_trich_postop_bilat': 2,\n",
       " 'adult_trich_postop_eyes': 9,\n",
       " 'adult_trich_unmanaged_bilat': 8,\n",
       " 'adult_trich_unmanaged_ct': 33,\n",
       " 'adult_trichts_bilat': 12,\n",
       " 'adult_trichts_ct': 43,\n",
       " 'adult_trichts_postop_bilat': 1,\n",
       " 'adult_trichts_postop_eyes': 6,\n",
       " 'adult_trichts_unmanaged_bilat': 6,\n",
       " 'adult_trichts_unmanaged_ct': 26,\n",
       " 'adult_tt_bilat': None,\n",
       " 'adult_tt_ct': None,\n",
       " 'adult_tt_postop_bilat': None,\n",
       " 'adult_tt_postop_eyes': None,\n",
       " 'adult_tt_unmanaged_bilat': None,\n",
       " 'adult_tt_unmanaged_ct': None,\n",
       " 'analysis_date': '2019-08-23T18:20:56.000Z',\n",
       " 'child_enum': 891,\n",
       " 'child_ex': 880,\n",
       " 'cluster_ct': 30,\n",
       " 'date_completed': '2019-08-15T07:53:09.000Z',\n",
       " 'eu': '81028',\n",
       " 'geoconnect_id': 6261,\n",
       " 'hh_ct': 899,\n",
       " 'project_id': 79,\n",
       " 's2_latrine_agg': 0.0,\n",
       " 'survey_type': '1',\n",
       " 'tf_95_low': 0.111853478358096,\n",
       " 'tf_95_upp': 0.208144799272616,\n",
       " 'tf_adj': 0.15646030235209,\n",
       " 'trich_95_low': 0.011679994542381,\n",
       " 'trich_95_upp': 0.0222799739417242,\n",
       " 'trich_adj': 0.016661052059127,\n",
       " 'trich_unadj': 0.0273426708352715,\n",
       " 'trich_unmanaged_95_low': 0.006961515165,\n",
       " 'trich_unmanaged_95_upp': 0.0160550964301944,\n",
       " 'trich_unmanaged_adj': 0.0113402532463492,\n",
       " 'trich_unmanaged_unadj': 0.0171776118037245,\n",
       " 'trichts_95_low': 0.00822582630933334,\n",
       " 'trichts_95_upp': 0.0177059372581508,\n",
       " 'trichts_adj': 0.0127858487892857,\n",
       " 'trichts_unadj': 0.0222635739643951,\n",
       " 'trichts_unmanaged_95_low': 0.00448119734821825,\n",
       " 'trichts_unmanaged_95_upp': 0.0124133336218611,\n",
       " 'trichts_unmanaged_adj': 0.00825099085984127,\n",
       " 'trichts_unmanaged_unadj': 0.0137378591951432,\n",
       " 'tt_95_low': None,\n",
       " 'tt_95_upp': None,\n",
       " 'tt_adj': None,\n",
       " 'tt_unadj': None,\n",
       " 'tt_unmanaged_95_low': None,\n",
       " 'tt_unmanaged_95_upp': None,\n",
       " 'tt_unmanaged_adj': None,\n",
       " 'tt_unmanaged_unadj': None,\n",
       " 'w1_drink_agg': 0.453837597330367,\n",
       " 'w2_get_drink_agg': 0.426028921023359}"
      ]
     },
     "execution_count": 54,
     "metadata": {},
     "output_type": "execute_result"
    }
   ],
   "source": [
    "results[0]"
   ]
  },
  {
   "cell_type": "code",
   "execution_count": 55,
   "metadata": {},
   "outputs": [
    {
     "name": "stdout",
     "output_type": "stream",
     "text": [
      "Progress: [####################] 100.0%\n"
     ]
    }
   ],
   "source": [
    "import dateutil.parser\n",
    "\n",
    "datavalues = []\n",
    "unmaped_ous = set()\n",
    "\n",
    "for index, record in enumerate(results):\n",
    "    \n",
    "    # only import data for woredas that can be found\n",
    "    match = find_admin3(record['admin3_name'])\n",
    "    \n",
    "    if match:\n",
    "        \n",
    "        #event_date = dateutil.parser.parse(record[\"analysis_date\"])\n",
    "        event_date = dateutil.parser.parse(record[\"date_completed\"])\n",
    "        \n",
    "         # TF\n",
    "        if \"tf_adj\" in record and record[\"tf_adj\"] is not None:\n",
    "           \n",
    "            element = {\n",
    "                \"dataElement\": \"akcEiBEVnD1\",\n",
    "                \"period\": event_date.year, \n",
    "                \"orgUnit\": match,\n",
    "                \"value\": record[\"tf_adj\"] * 100,\n",
    "                \"categoryOptionCombo\": \"HllvX50cXC0\",\n",
    "                \"attributeOptionCombo\":\"T2Ll5J1zITu\"\n",
    "                }\n",
    "            \n",
    "            datavalues.append(element)\n",
    "        \n",
    "        \n",
    "        # TT\n",
    "        if \"tt_adj\" in record and record[\"tt_adj\"] is not None:   \n",
    "             \n",
    "            element = {\n",
    "                \"dataElement\": \"PR3XBXGC3dL\",\n",
    "                \"period\": event_date.year, \n",
    "                \"orgUnit\": match,\n",
    "                \"value\": record[\"tt_adj\"] * 100,\n",
    "                \"categoryOptionCombo\": \"HllvX50cXC0\",\n",
    "                \"attributeOptionCombo\":\"T2Ll5J1zITu\"\n",
    "            }\n",
    "            datavalues.append(element)\n",
    "            \n",
    "        # child_enum - Number of 1-9 year olds enumerated (regardless of examination status)\n",
    "        if \"child_enum\" in record and record[\"child_enum\"] is not None:   \n",
    "             \n",
    "            element = {\n",
    "                \"dataElement\": \"V2MPHZPFPj0\",\n",
    "                \"period\": event_date.year, \n",
    "                \"orgUnit\": match,\n",
    "                \"value\": record[\"child_enum\"],\n",
    "                \"categoryOptionCombo\": \"HllvX50cXC0\",\n",
    "                \"attributeOptionCombo\":\"T2Ll5J1zITu\"\n",
    "            }\n",
    "            datavalues.append(element)\n",
    "            \n",
    "        \n",
    "        # child_ex - Number of 1-9 year olds examined\n",
    "        if \"child_ex\" in record and record[\"child_ex\"] is not None:   \n",
    "             \n",
    "            element = {\n",
    "                \"dataElement\": \"jLBmISBEYEl\",\n",
    "                \"period\": event_date.year, \n",
    "                \"orgUnit\": match,\n",
    "                \"value\": record[\"child_ex\"],\n",
    "                \"categoryOptionCombo\": \"HllvX50cXC0\",\n",
    "                \"attributeOptionCombo\":\"T2Ll5J1zITu\"\n",
    "            }\n",
    "            datavalues.append(element)\n",
    "            \n",
    "        # child_ex - Number of 15+ year olds enumerated\n",
    "        if \"adult_enum\" in record and record[\"adult_enum\"] is not None:   \n",
    "             \n",
    "            element = {\n",
    "                \"dataElement\": \"si6a8M15CM2\",\n",
    "                \"period\": event_date.year, \n",
    "                \"orgUnit\": match,\n",
    "                \"value\": record[\"adult_enum\"],\n",
    "                \"categoryOptionCombo\": \"HllvX50cXC0\",\n",
    "                 \"attributeOptionCombo\":\"T2Ll5J1zITu\"\n",
    "            }\n",
    "            datavalues.append(element)\n",
    "            \n",
    "         # child_ex - Number of 15+ year olds examined\n",
    "        if \"adult_ex\" in record and record[\"adult_ex\"] is not None:   \n",
    "             \n",
    "            element = {\n",
    "                \"dataElement\": \"v7CgLWmGb7y\",\n",
    "                \"period\": event_date.year, \n",
    "                \"orgUnit\": match,\n",
    "                \"value\": record[\"adult_ex\"],\n",
    "                \"categoryOptionCombo\": \"HllvX50cXC0\",\n",
    "                \"attributeOptionCombo\":\"T2Ll5J1zITu\"\n",
    "            }\n",
    "            datavalues.append(element)\n",
    "            \n",
    "         # child_ex - Number of 15+ year olds examined\n",
    "        if \"survey_type\" in record and record[\"survey_type\"] is not None:   \n",
    "             \n",
    "            element = {\n",
    "                \"dataElement\": \"e2hJK8SKZ1v\",\n",
    "                \"period\": event_date.year, \n",
    "                \"orgUnit\": match,\n",
    "                \"value\": record[\"survey_type\"],\n",
    "                \"categoryOptionCombo\": \"HllvX50cXC0\",\n",
    "                \"attributeOptionCombo\":\"T2Ll5J1zITu\"\n",
    "            }\n",
    "            datavalues.append(element)\n",
    "            \n",
    "              \n",
    "    else:\n",
    "        unmaped_ous.add(record['admin3_name'])\n",
    "        \n",
    "    update_progress( (index+1) / len(results))\n",
    "        "
   ]
  },
  {
   "cell_type": "code",
   "execution_count": 56,
   "metadata": {},
   "outputs": [
    {
     "name": "stdout",
     "output_type": "stream",
     "text": [
      "Of the potential 491 records from the API to be loaded in, there are 2924 yearly forecasts to be imported and 16 woredas that could not be mapped\n"
     ]
    }
   ],
   "source": [
    "# print what we know\n",
    "print(\"Of the potential {}\".format(len(results)) +\" records from the API to be loaded in, there are {}\"\\\n",
    "      .format(len(datavalues)) + \" yearly forecasts to be imported and {}\"\\\n",
    "      .format(len(unmaped_ous)) + \" woredas that could not be mapped\")\n"
   ]
  },
  {
   "cell_type": "code",
   "execution_count": 57,
   "metadata": {},
   "outputs": [],
   "source": [
    "import json\n",
    "\n",
    "# Add these things\n",
    "data = {}\n",
    "data['dataValues'] = datavalues\n",
    "\n",
    "with open('tropicaldata-for-importing.json', 'w') as outfile:\n",
    "    json.dump(data, outfile, ensure_ascii=False, indent=4)"
   ]
  },
  {
   "cell_type": "markdown",
   "metadata": {},
   "source": [
    "### Import the file\n",
    "In the Import Export app, select Data Import and this select this file generated above"
   ]
  },
  {
   "cell_type": "code",
   "execution_count": null,
   "metadata": {},
   "outputs": [],
   "source": []
  }
 ],
 "metadata": {
  "kernelspec": {
   "display_name": "Python 3",
   "language": "python",
   "name": "python3"
  },
  "language_info": {
   "codemirror_mode": {
    "name": "ipython",
    "version": 3
   },
   "file_extension": ".py",
   "mimetype": "text/x-python",
   "name": "python",
   "nbconvert_exporter": "python",
   "pygments_lexer": "ipython3",
   "version": "3.6.8"
  }
 },
 "nbformat": 4,
 "nbformat_minor": 4
}
